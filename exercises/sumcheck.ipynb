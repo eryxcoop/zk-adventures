{
 "cells": [
  {
   "cell_type": "code",
   "execution_count": null,
   "id": "6fb8496d",
   "metadata": {},
   "outputs": [],
   "source": [
    "from zk_adventures_types import F, Polynomial"
   ]
  },
  {
   "cell_type": "code",
   "execution_count": null,
   "id": "4637938c",
   "metadata": {},
   "outputs": [],
   "source": [
    "n = 5\n",
    "\n",
    "MultilinearPolynomialXY = PolynomialRing(F, 2 * n, [f\"X{i}\" for i in range(n)] + [f\"Y{i}\" for i in range(n)])\n",
    "\n",
    "MultilinearPolynomial = PolynomialRing(F, n, [f\"X{i}\" for i in range(n)])\n",
    "\n",
    "X_powers = [MultilinearPolynomial(f\"X{i}\") for i in range(n)]"
   ]
  },
  {
   "cell_type": "code",
   "execution_count": null,
   "id": "e4dd8bc7",
   "metadata": {},
   "outputs": [],
   "source": [
    "def compute_L_H():\n",
    "    L_H_factors = [MultilinearPolynomialXY(f\"1 + X{i} * Y{i}\") for i in range(n)]\n",
    "\n",
    "    result = pow(2, -n, F.order())\n",
    "    for factor in L_H_factors:\n",
    "        result *= factor\n",
    "    return result"
   ]
  },
  {
   "cell_type": "code",
   "execution_count": null,
   "id": "2a4f2c01",
   "metadata": {},
   "outputs": [],
   "source": [
    "values = [F.random_element() for _ in range(8)]"
   ]
  },
  {
   "cell_type": "code",
   "execution_count": null,
   "id": "c857e0d8",
   "metadata": {},
   "outputs": [],
   "source": [
    "def index_to_hypercube(i, k):\n",
    "    return [1 if (i >> (k - l - 1)) & 1 else -1 for l in range(k)]\n",
    "\n",
    "index_to_hypercube(6, 3)"
   ]
  },
  {
   "cell_type": "code",
   "execution_count": null,
   "id": "eac80125",
   "metadata": {
    "scrolled": true
   },
   "outputs": [],
   "source": [
    "def interpolate_values(values):\n",
    "    L_H = compute_L_H()\n",
    "\n",
    "    result = F(0)\n",
    "    for i, f_i in enumerate(values):\n",
    "        result += f_i * L_H(*X_powers, *index_to_hypercube(i, n))\n",
    "    return result"
   ]
  },
  {
   "cell_type": "code",
   "execution_count": null,
   "id": "8abcb95a",
   "metadata": {},
   "outputs": [],
   "source": [
    "poly = interpolate_values(values)\n",
    "\n",
    "assert poly(*index_to_hypercube(7, n)) == values[7]"
   ]
  },
  {
   "cell_type": "code",
   "execution_count": null,
   "id": "d9db0a93",
   "metadata": {},
   "outputs": [],
   "source": [
    "def sum_polynomial_over_hypercube(polynomial):\n",
    "    result = F(0)\n",
    "    for i in range(2**n):\n",
    "        result += polynomial(*index_to_hypercube(i, n))\n",
    "    return result"
   ]
  },
  {
   "cell_type": "code",
   "execution_count": null,
   "id": "175c659e",
   "metadata": {},
   "outputs": [],
   "source": [
    "s = sum_polynomial_over_hypercube(poly)"
   ]
  },
  {
   "cell_type": "code",
   "execution_count": null,
   "id": "1d4ad0d3",
   "metadata": {},
   "outputs": [],
   "source": [
    "def compute_Si(polynomial, rs):\n",
    "    i = len(rs) + 1\n",
    "    X = Polynomial.monomial(1)\n",
    "    result = F(0)\n",
    "    for k in range(2**(n - i)):\n",
    "        # variables = (r_1, ..., r_{i-1}, X, x_{i+1}, ..., x_n)\n",
    "        variables = rs + [X] + index_to_hypercube(k, n - i)\n",
    "        result += polynomial(*variables)\n",
    "    return result"
   ]
  },
  {
   "cell_type": "code",
   "execution_count": null,
   "id": "8129c4b0",
   "metadata": {},
   "outputs": [],
   "source": [
    "random_values = []"
   ]
  },
  {
   "cell_type": "code",
   "execution_count": null,
   "id": "d5f5cde0",
   "metadata": {
    "scrolled": true
   },
   "outputs": [],
   "source": [
    "s1 = compute_Si(poly, random_values)\n",
    "s == s1(1) + s1(-1)"
   ]
  },
  {
   "cell_type": "code",
   "execution_count": null,
   "id": "549bff35",
   "metadata": {
    "scrolled": true
   },
   "outputs": [],
   "source": [
    "r1 = F.random_element()\n",
    "random_values.append(r1)\n",
    "s2 = compute_Si(poly, random_values)\n",
    "s1(r1) == s2(1) + s2(-1)"
   ]
  },
  {
   "cell_type": "code",
   "execution_count": null,
   "id": "5d6b743f",
   "metadata": {},
   "outputs": [],
   "source": [
    "r2 = F.random_element()\n",
    "random_values.append(r2)\n",
    "s3 = compute_Si(poly, random_values)\n",
    "s2(r2) == s3(1) + s3(-1)"
   ]
  },
  {
   "cell_type": "code",
   "execution_count": null,
   "id": "39af48eb",
   "metadata": {},
   "outputs": [],
   "source": [
    "r3 = F.random_element()\n",
    "random_values.append(r3)\n",
    "s4 = compute_Si(poly, random_values)\n",
    "s3(r3) == s4(1) + s4(-1)"
   ]
  },
  {
   "cell_type": "code",
   "execution_count": null,
   "id": "09880172",
   "metadata": {},
   "outputs": [],
   "source": [
    "r4 = F.random_element()\n",
    "random_values.append(r4)\n",
    "s5 = compute_Si(poly, random_values)\n",
    "s4(r4) == s5(1) + s5(-1)"
   ]
  },
  {
   "cell_type": "code",
   "execution_count": null,
   "id": "5f97e152",
   "metadata": {
    "scrolled": true
   },
   "outputs": [],
   "source": [
    "r5 = F.random_element()\n",
    "random_values.append(r5)\n",
    "s5(r5) == poly(*random_values)"
   ]
  },
  {
   "cell_type": "code",
   "execution_count": null,
   "id": "5f0bae73",
   "metadata": {},
   "outputs": [],
   "source": [
    "from tqdm.auto import tqdm\n",
    "\n",
    "# INTERACTIVE SUMCHECK\n",
    "\n",
    "random_values = []\n",
    "\n",
    "# prover\n",
    "s_i = compute_Si(poly, random_values)\n",
    "\n",
    "# verifier\n",
    "assert s == s_i(1) + s_i(-1)\n",
    "\n",
    "for i in tqdm(range(1, n)):\n",
    "    # verifier\n",
    "    r_i = F.random_element()\n",
    "    \n",
    "    # prover\n",
    "    random_values.append(r_i)\n",
    "    s_i_plus_1 = compute_Si(poly, random_values)\n",
    "    \n",
    "    # verifier\n",
    "    assert s_i(r_i) == s_i_plus_1(1) + s_i_plus_1(-1)\n",
    "    s_i = s_i_plus_1\n",
    "\n",
    "# verifier\n",
    "r_last = F.random_element()\n",
    "random_values.append(r_last)\n",
    "s_i(r_last) == poly(*random_values)"
   ]
  },
  {
   "cell_type": "code",
   "execution_count": null,
   "id": "4a6a7b2e",
   "metadata": {},
   "outputs": [],
   "source": []
  }
 ],
 "metadata": {
  "kernelspec": {
   "display_name": "SageMath 9.7",
   "language": "sage",
   "name": "sagemath"
  },
  "language_info": {
   "codemirror_mode": {
    "name": "ipython",
    "version": 3
   },
   "file_extension": ".py",
   "mimetype": "text/x-python",
   "name": "python",
   "nbconvert_exporter": "python",
   "pygments_lexer": "ipython3",
   "version": "3.10.5"
  }
 },
 "nbformat": 4,
 "nbformat_minor": 5
}
